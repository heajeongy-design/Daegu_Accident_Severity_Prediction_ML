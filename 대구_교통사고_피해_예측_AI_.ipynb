{
  "nbformat": 4,
  "nbformat_minor": 0,
  "metadata": {
    "colab": {
      "provenance": []
    },
    "kernelspec": {
      "name": "python3",
      "display_name": "Python 3"
    },
    "language_info": {
      "name": "python"
    }
  },
  "cells": [
    {
      "cell_type": "code",
      "source": [
        "!apt-get install -y fonts-nanum\n",
        "!fc-cache -fv\n",
        "!rm -rf ~/.cache/matplotlib"
      ],
      "metadata": {
        "id": "3CrQPDcpvxhd",
        "colab": {
          "base_uri": "https://localhost:8080/"
        },
        "outputId": "a5b15ea6-1d92-4bc6-b319-7b4cad399f12"
      },
      "execution_count": null,
      "outputs": [
        {
          "output_type": "stream",
          "name": "stdout",
          "text": [
            "Reading package lists... Done\n",
            "Building dependency tree... Done\n",
            "Reading state information... Done\n",
            "The following NEW packages will be installed:\n",
            "  fonts-nanum\n",
            "0 upgraded, 1 newly installed, 0 to remove and 38 not upgraded.\n",
            "Need to get 10.3 MB of archives.\n",
            "After this operation, 34.1 MB of additional disk space will be used.\n",
            "Get:1 http://archive.ubuntu.com/ubuntu jammy/universe amd64 fonts-nanum all 20200506-1 [10.3 MB]\n",
            "Fetched 10.3 MB in 1s (9,942 kB/s)\n",
            "Selecting previously unselected package fonts-nanum.\n",
            "(Reading database ... 126675 files and directories currently installed.)\n",
            "Preparing to unpack .../fonts-nanum_20200506-1_all.deb ...\n",
            "Unpacking fonts-nanum (20200506-1) ...\n",
            "Setting up fonts-nanum (20200506-1) ...\n",
            "Processing triggers for fontconfig (2.13.1-4.2ubuntu5) ...\n",
            "/usr/share/fonts: caching, new cache contents: 0 fonts, 1 dirs\n",
            "/usr/share/fonts/truetype: caching, new cache contents: 0 fonts, 3 dirs\n",
            "/usr/share/fonts/truetype/humor-sans: caching, new cache contents: 1 fonts, 0 dirs\n",
            "/usr/share/fonts/truetype/liberation: caching, new cache contents: 16 fonts, 0 dirs\n",
            "/usr/share/fonts/truetype/nanum: caching, new cache contents: 12 fonts, 0 dirs\n",
            "/usr/local/share/fonts: caching, new cache contents: 0 fonts, 0 dirs\n",
            "/root/.local/share/fonts: skipping, no such directory\n",
            "/root/.fonts: skipping, no such directory\n",
            "/usr/share/fonts/truetype: skipping, looped directory detected\n",
            "/usr/share/fonts/truetype/humor-sans: skipping, looped directory detected\n",
            "/usr/share/fonts/truetype/liberation: skipping, looped directory detected\n",
            "/usr/share/fonts/truetype/nanum: skipping, looped directory detected\n",
            "/var/cache/fontconfig: cleaning cache directory\n",
            "/root/.cache/fontconfig: not cleaning non-existent cache directory\n",
            "/root/.fontconfig: not cleaning non-existent cache directory\n",
            "fc-cache: succeeded\n"
          ]
        }
      ]
    },
    {
      "cell_type": "code",
      "source": [
        "import pandas as pd\n",
        "df=pd.read_csv('./train.csv')\n",
        "df.head()"
      ],
      "metadata": {
        "colab": {
          "base_uri": "https://localhost:8080/",
          "height": 1000
        },
        "id": "1A5QTdjtqqjw",
        "outputId": "b56759f5-7ba5-4444-f5db-7fa873c10a86"
      },
      "execution_count": null,
      "outputs": [
        {
          "output_type": "execute_result",
          "data": {
            "text/plain": [
              "               ID           사고일시   요일 기상상태            시군구      도로형태 노면상태  \\\n",
              "0  ACCIDENT_00000  2019-01-01 00  화요일   맑음   대구광역시 중구 대신동  단일로 - 기타   건조   \n",
              "1  ACCIDENT_00001  2019-01-01 00  화요일   흐림  대구광역시 달서구 감삼동  단일로 - 기타   건조   \n",
              "2  ACCIDENT_00002  2019-01-01 01  화요일   맑음  대구광역시 수성구 두산동  단일로 - 기타   건조   \n",
              "3  ACCIDENT_00003  2019-01-01 02  화요일   맑음   대구광역시 북구 복현동  단일로 - 기타   건조   \n",
              "4  ACCIDENT_00004  2019-01-01 04  화요일   맑음   대구광역시 동구 신암동  단일로 - 기타   건조   \n",
              "\n",
              "   사고유형 사고유형 - 세부분류     법규위반  ... 가해운전자 상해정도 피해운전자 차종 피해운전자 성별 피해운전자 연령  \\\n",
              "0  차대사람  길가장자리구역통행중  안전운전불이행  ...       상해없음      보행자        여      70세   \n",
              "1  차대사람       보도통행중       기타  ...       상해없음      보행자        남      61세   \n",
              "2  차대사람       차도통행중  안전운전불이행  ...       상해없음      보행자        남      38세   \n",
              "3   차대차          추돌  안전운전불이행  ...       상해없음       승용        남      36세   \n",
              "4   차대차          추돌  안전운전불이행  ...       상해없음       승용        남      52세   \n",
              "\n",
              "  피해운전자 상해정도 사망자수 중상자수 경상자수  부상자수  ECLO  \n",
              "0         중상    0    1    0     0     5  \n",
              "1         경상    0    0    1     0     3  \n",
              "2         경상    0    0    1     0     3  \n",
              "3         중상    0    1    0     0     5  \n",
              "4         경상    0    0    1     0     3  \n",
              "\n",
              "[5 rows x 23 columns]"
            ],
            "text/html": [
              "\n",
              "  <div id=\"df-aa6e591e-b559-4250-be45-c898f23e4586\" class=\"colab-df-container\">\n",
              "    <div>\n",
              "<style scoped>\n",
              "    .dataframe tbody tr th:only-of-type {\n",
              "        vertical-align: middle;\n",
              "    }\n",
              "\n",
              "    .dataframe tbody tr th {\n",
              "        vertical-align: top;\n",
              "    }\n",
              "\n",
              "    .dataframe thead th {\n",
              "        text-align: right;\n",
              "    }\n",
              "</style>\n",
              "<table border=\"1\" class=\"dataframe\">\n",
              "  <thead>\n",
              "    <tr style=\"text-align: right;\">\n",
              "      <th></th>\n",
              "      <th>ID</th>\n",
              "      <th>사고일시</th>\n",
              "      <th>요일</th>\n",
              "      <th>기상상태</th>\n",
              "      <th>시군구</th>\n",
              "      <th>도로형태</th>\n",
              "      <th>노면상태</th>\n",
              "      <th>사고유형</th>\n",
              "      <th>사고유형 - 세부분류</th>\n",
              "      <th>법규위반</th>\n",
              "      <th>...</th>\n",
              "      <th>가해운전자 상해정도</th>\n",
              "      <th>피해운전자 차종</th>\n",
              "      <th>피해운전자 성별</th>\n",
              "      <th>피해운전자 연령</th>\n",
              "      <th>피해운전자 상해정도</th>\n",
              "      <th>사망자수</th>\n",
              "      <th>중상자수</th>\n",
              "      <th>경상자수</th>\n",
              "      <th>부상자수</th>\n",
              "      <th>ECLO</th>\n",
              "    </tr>\n",
              "  </thead>\n",
              "  <tbody>\n",
              "    <tr>\n",
              "      <th>0</th>\n",
              "      <td>ACCIDENT_00000</td>\n",
              "      <td>2019-01-01 00</td>\n",
              "      <td>화요일</td>\n",
              "      <td>맑음</td>\n",
              "      <td>대구광역시 중구 대신동</td>\n",
              "      <td>단일로 - 기타</td>\n",
              "      <td>건조</td>\n",
              "      <td>차대사람</td>\n",
              "      <td>길가장자리구역통행중</td>\n",
              "      <td>안전운전불이행</td>\n",
              "      <td>...</td>\n",
              "      <td>상해없음</td>\n",
              "      <td>보행자</td>\n",
              "      <td>여</td>\n",
              "      <td>70세</td>\n",
              "      <td>중상</td>\n",
              "      <td>0</td>\n",
              "      <td>1</td>\n",
              "      <td>0</td>\n",
              "      <td>0</td>\n",
              "      <td>5</td>\n",
              "    </tr>\n",
              "    <tr>\n",
              "      <th>1</th>\n",
              "      <td>ACCIDENT_00001</td>\n",
              "      <td>2019-01-01 00</td>\n",
              "      <td>화요일</td>\n",
              "      <td>흐림</td>\n",
              "      <td>대구광역시 달서구 감삼동</td>\n",
              "      <td>단일로 - 기타</td>\n",
              "      <td>건조</td>\n",
              "      <td>차대사람</td>\n",
              "      <td>보도통행중</td>\n",
              "      <td>기타</td>\n",
              "      <td>...</td>\n",
              "      <td>상해없음</td>\n",
              "      <td>보행자</td>\n",
              "      <td>남</td>\n",
              "      <td>61세</td>\n",
              "      <td>경상</td>\n",
              "      <td>0</td>\n",
              "      <td>0</td>\n",
              "      <td>1</td>\n",
              "      <td>0</td>\n",
              "      <td>3</td>\n",
              "    </tr>\n",
              "    <tr>\n",
              "      <th>2</th>\n",
              "      <td>ACCIDENT_00002</td>\n",
              "      <td>2019-01-01 01</td>\n",
              "      <td>화요일</td>\n",
              "      <td>맑음</td>\n",
              "      <td>대구광역시 수성구 두산동</td>\n",
              "      <td>단일로 - 기타</td>\n",
              "      <td>건조</td>\n",
              "      <td>차대사람</td>\n",
              "      <td>차도통행중</td>\n",
              "      <td>안전운전불이행</td>\n",
              "      <td>...</td>\n",
              "      <td>상해없음</td>\n",
              "      <td>보행자</td>\n",
              "      <td>남</td>\n",
              "      <td>38세</td>\n",
              "      <td>경상</td>\n",
              "      <td>0</td>\n",
              "      <td>0</td>\n",
              "      <td>1</td>\n",
              "      <td>0</td>\n",
              "      <td>3</td>\n",
              "    </tr>\n",
              "    <tr>\n",
              "      <th>3</th>\n",
              "      <td>ACCIDENT_00003</td>\n",
              "      <td>2019-01-01 02</td>\n",
              "      <td>화요일</td>\n",
              "      <td>맑음</td>\n",
              "      <td>대구광역시 북구 복현동</td>\n",
              "      <td>단일로 - 기타</td>\n",
              "      <td>건조</td>\n",
              "      <td>차대차</td>\n",
              "      <td>추돌</td>\n",
              "      <td>안전운전불이행</td>\n",
              "      <td>...</td>\n",
              "      <td>상해없음</td>\n",
              "      <td>승용</td>\n",
              "      <td>남</td>\n",
              "      <td>36세</td>\n",
              "      <td>중상</td>\n",
              "      <td>0</td>\n",
              "      <td>1</td>\n",
              "      <td>0</td>\n",
              "      <td>0</td>\n",
              "      <td>5</td>\n",
              "    </tr>\n",
              "    <tr>\n",
              "      <th>4</th>\n",
              "      <td>ACCIDENT_00004</td>\n",
              "      <td>2019-01-01 04</td>\n",
              "      <td>화요일</td>\n",
              "      <td>맑음</td>\n",
              "      <td>대구광역시 동구 신암동</td>\n",
              "      <td>단일로 - 기타</td>\n",
              "      <td>건조</td>\n",
              "      <td>차대차</td>\n",
              "      <td>추돌</td>\n",
              "      <td>안전운전불이행</td>\n",
              "      <td>...</td>\n",
              "      <td>상해없음</td>\n",
              "      <td>승용</td>\n",
              "      <td>남</td>\n",
              "      <td>52세</td>\n",
              "      <td>경상</td>\n",
              "      <td>0</td>\n",
              "      <td>0</td>\n",
              "      <td>1</td>\n",
              "      <td>0</td>\n",
              "      <td>3</td>\n",
              "    </tr>\n",
              "  </tbody>\n",
              "</table>\n",
              "<p>5 rows × 23 columns</p>\n",
              "</div>\n",
              "    <div class=\"colab-df-buttons\">\n",
              "\n",
              "  <div class=\"colab-df-container\">\n",
              "    <button class=\"colab-df-convert\" onclick=\"convertToInteractive('df-aa6e591e-b559-4250-be45-c898f23e4586')\"\n",
              "            title=\"Convert this dataframe to an interactive table.\"\n",
              "            style=\"display:none;\">\n",
              "\n",
              "  <svg xmlns=\"http://www.w3.org/2000/svg\" height=\"24px\" viewBox=\"0 -960 960 960\">\n",
              "    <path d=\"M120-120v-720h720v720H120Zm60-500h600v-160H180v160Zm220 220h160v-160H400v160Zm0 220h160v-160H400v160ZM180-400h160v-160H180v160Zm440 0h160v-160H620v160ZM180-180h160v-160H180v160Zm440 0h160v-160H620v160Z\"/>\n",
              "  </svg>\n",
              "    </button>\n",
              "\n",
              "  <style>\n",
              "    .colab-df-container {\n",
              "      display:flex;\n",
              "      gap: 12px;\n",
              "    }\n",
              "\n",
              "    .colab-df-convert {\n",
              "      background-color: #E8F0FE;\n",
              "      border: none;\n",
              "      border-radius: 50%;\n",
              "      cursor: pointer;\n",
              "      display: none;\n",
              "      fill: #1967D2;\n",
              "      height: 32px;\n",
              "      padding: 0 0 0 0;\n",
              "      width: 32px;\n",
              "    }\n",
              "\n",
              "    .colab-df-convert:hover {\n",
              "      background-color: #E2EBFA;\n",
              "      box-shadow: 0px 1px 2px rgba(60, 64, 67, 0.3), 0px 1px 3px 1px rgba(60, 64, 67, 0.15);\n",
              "      fill: #174EA6;\n",
              "    }\n",
              "\n",
              "    .colab-df-buttons div {\n",
              "      margin-bottom: 4px;\n",
              "    }\n",
              "\n",
              "    [theme=dark] .colab-df-convert {\n",
              "      background-color: #3B4455;\n",
              "      fill: #D2E3FC;\n",
              "    }\n",
              "\n",
              "    [theme=dark] .colab-df-convert:hover {\n",
              "      background-color: #434B5C;\n",
              "      box-shadow: 0px 1px 3px 1px rgba(0, 0, 0, 0.15);\n",
              "      filter: drop-shadow(0px 1px 2px rgba(0, 0, 0, 0.3));\n",
              "      fill: #FFFFFF;\n",
              "    }\n",
              "  </style>\n",
              "\n",
              "    <script>\n",
              "      const buttonEl =\n",
              "        document.querySelector('#df-aa6e591e-b559-4250-be45-c898f23e4586 button.colab-df-convert');\n",
              "      buttonEl.style.display =\n",
              "        google.colab.kernel.accessAllowed ? 'block' : 'none';\n",
              "\n",
              "      async function convertToInteractive(key) {\n",
              "        const element = document.querySelector('#df-aa6e591e-b559-4250-be45-c898f23e4586');\n",
              "        const dataTable =\n",
              "          await google.colab.kernel.invokeFunction('convertToInteractive',\n",
              "                                                    [key], {});\n",
              "        if (!dataTable) return;\n",
              "\n",
              "        const docLinkHtml = 'Like what you see? Visit the ' +\n",
              "          '<a target=\"_blank\" href=https://colab.research.google.com/notebooks/data_table.ipynb>data table notebook</a>'\n",
              "          + ' to learn more about interactive tables.';\n",
              "        element.innerHTML = '';\n",
              "        dataTable['output_type'] = 'display_data';\n",
              "        await google.colab.output.renderOutput(dataTable, element);\n",
              "        const docLink = document.createElement('div');\n",
              "        docLink.innerHTML = docLinkHtml;\n",
              "        element.appendChild(docLink);\n",
              "      }\n",
              "    </script>\n",
              "  </div>\n",
              "\n",
              "\n",
              "    <div id=\"df-4c21e500-955a-4941-adca-165397012356\">\n",
              "      <button class=\"colab-df-quickchart\" onclick=\"quickchart('df-4c21e500-955a-4941-adca-165397012356')\"\n",
              "                title=\"Suggest charts\"\n",
              "                style=\"display:none;\">\n",
              "\n",
              "<svg xmlns=\"http://www.w3.org/2000/svg\" height=\"24px\"viewBox=\"0 0 24 24\"\n",
              "     width=\"24px\">\n",
              "    <g>\n",
              "        <path d=\"M19 3H5c-1.1 0-2 .9-2 2v14c0 1.1.9 2 2 2h14c1.1 0 2-.9 2-2V5c0-1.1-.9-2-2-2zM9 17H7v-7h2v7zm4 0h-2V7h2v10zm4 0h-2v-4h2v4z\"/>\n",
              "    </g>\n",
              "</svg>\n",
              "      </button>\n",
              "\n",
              "<style>\n",
              "  .colab-df-quickchart {\n",
              "      --bg-color: #E8F0FE;\n",
              "      --fill-color: #1967D2;\n",
              "      --hover-bg-color: #E2EBFA;\n",
              "      --hover-fill-color: #174EA6;\n",
              "      --disabled-fill-color: #AAA;\n",
              "      --disabled-bg-color: #DDD;\n",
              "  }\n",
              "\n",
              "  [theme=dark] .colab-df-quickchart {\n",
              "      --bg-color: #3B4455;\n",
              "      --fill-color: #D2E3FC;\n",
              "      --hover-bg-color: #434B5C;\n",
              "      --hover-fill-color: #FFFFFF;\n",
              "      --disabled-bg-color: #3B4455;\n",
              "      --disabled-fill-color: #666;\n",
              "  }\n",
              "\n",
              "  .colab-df-quickchart {\n",
              "    background-color: var(--bg-color);\n",
              "    border: none;\n",
              "    border-radius: 50%;\n",
              "    cursor: pointer;\n",
              "    display: none;\n",
              "    fill: var(--fill-color);\n",
              "    height: 32px;\n",
              "    padding: 0;\n",
              "    width: 32px;\n",
              "  }\n",
              "\n",
              "  .colab-df-quickchart:hover {\n",
              "    background-color: var(--hover-bg-color);\n",
              "    box-shadow: 0 1px 2px rgba(60, 64, 67, 0.3), 0 1px 3px 1px rgba(60, 64, 67, 0.15);\n",
              "    fill: var(--button-hover-fill-color);\n",
              "  }\n",
              "\n",
              "  .colab-df-quickchart-complete:disabled,\n",
              "  .colab-df-quickchart-complete:disabled:hover {\n",
              "    background-color: var(--disabled-bg-color);\n",
              "    fill: var(--disabled-fill-color);\n",
              "    box-shadow: none;\n",
              "  }\n",
              "\n",
              "  .colab-df-spinner {\n",
              "    border: 2px solid var(--fill-color);\n",
              "    border-color: transparent;\n",
              "    border-bottom-color: var(--fill-color);\n",
              "    animation:\n",
              "      spin 1s steps(1) infinite;\n",
              "  }\n",
              "\n",
              "  @keyframes spin {\n",
              "    0% {\n",
              "      border-color: transparent;\n",
              "      border-bottom-color: var(--fill-color);\n",
              "      border-left-color: var(--fill-color);\n",
              "    }\n",
              "    20% {\n",
              "      border-color: transparent;\n",
              "      border-left-color: var(--fill-color);\n",
              "      border-top-color: var(--fill-color);\n",
              "    }\n",
              "    30% {\n",
              "      border-color: transparent;\n",
              "      border-left-color: var(--fill-color);\n",
              "      border-top-color: var(--fill-color);\n",
              "      border-right-color: var(--fill-color);\n",
              "    }\n",
              "    40% {\n",
              "      border-color: transparent;\n",
              "      border-right-color: var(--fill-color);\n",
              "      border-top-color: var(--fill-color);\n",
              "    }\n",
              "    60% {\n",
              "      border-color: transparent;\n",
              "      border-right-color: var(--fill-color);\n",
              "    }\n",
              "    80% {\n",
              "      border-color: transparent;\n",
              "      border-right-color: var(--fill-color);\n",
              "      border-bottom-color: var(--fill-color);\n",
              "    }\n",
              "    90% {\n",
              "      border-color: transparent;\n",
              "      border-bottom-color: var(--fill-color);\n",
              "    }\n",
              "  }\n",
              "</style>\n",
              "\n",
              "      <script>\n",
              "        async function quickchart(key) {\n",
              "          const quickchartButtonEl =\n",
              "            document.querySelector('#' + key + ' button');\n",
              "          quickchartButtonEl.disabled = true;  // To prevent multiple clicks.\n",
              "          quickchartButtonEl.classList.add('colab-df-spinner');\n",
              "          try {\n",
              "            const charts = await google.colab.kernel.invokeFunction(\n",
              "                'suggestCharts', [key], {});\n",
              "          } catch (error) {\n",
              "            console.error('Error during call to suggestCharts:', error);\n",
              "          }\n",
              "          quickchartButtonEl.classList.remove('colab-df-spinner');\n",
              "          quickchartButtonEl.classList.add('colab-df-quickchart-complete');\n",
              "        }\n",
              "        (() => {\n",
              "          let quickchartButtonEl =\n",
              "            document.querySelector('#df-4c21e500-955a-4941-adca-165397012356 button');\n",
              "          quickchartButtonEl.style.display =\n",
              "            google.colab.kernel.accessAllowed ? 'block' : 'none';\n",
              "        })();\n",
              "      </script>\n",
              "    </div>\n",
              "\n",
              "    </div>\n",
              "  </div>\n"
            ],
            "application/vnd.google.colaboratory.intrinsic+json": {
              "type": "dataframe",
              "variable_name": "df"
            }
          },
          "metadata": {},
          "execution_count": 3
        }
      ]
    },
    {
      "cell_type": "markdown",
      "source": [
        "# 1. 데이터 기본 확인 및 결측치 처리"
      ],
      "metadata": {
        "id": "vkL9jydcfD6D"
      }
    },
    {
      "cell_type": "code",
      "source": [
        "# -------------------------------\n",
        "# 1. 데이터 전처리 (결측치 처리 포함)\n",
        "# -------------------------------\n",
        "import pandas as pd\n",
        "\n",
        "# 파일 로드\n",
        "df = pd.read_csv(\"./train.csv\")\n",
        "\n",
        "# 결측치 처리 (피해운전자 관련)\n",
        "victim_cols = ['피해운전자 차종', '피해운전자 성별', '피해운전자 연령', '피해운전자 상해정도']\n",
        "for col in victim_cols:\n",
        "    df[col] = df[col].fillna(\"없음\")\n",
        "\n",
        "# 데이터 타입 및 결측치 확인\n",
        "print(df.info())\n",
        "print(df[victim_cols].isnull().sum())\n",
        "\n",
        "\n",
        "# -------------------------------\n",
        "# 2. EDA용 데이터 복사 및 열 선택\n",
        "# -------------------------------\n",
        "\n",
        "# 필요한 컬럼만 선택\n",
        "eda_cols = [\n",
        "    '사고일시',\n",
        "    '요일',\n",
        "    '기상상태',\n",
        "    '시군구',\n",
        "    '도로형태',\n",
        "    '노면상태',\n",
        "    '법규위반',\n",
        "    '사고유형',\n",
        "    '사고유형 - 세부분류',\n",
        "    '기상상태',\n",
        "    'ECLO'\n",
        "]\n",
        "\n",
        "# 원본 df에서 필요한 열만 복사 (deep copy)\n",
        "df_data = df[eda_cols].copy()\n",
        "\n",
        "# 결과 확인\n",
        "print(\"\\n[EDA용 데이터 확인]\")\n",
        "print(df_data.head())\n"
      ],
      "metadata": {
        "colab": {
          "base_uri": "https://localhost:8080/"
        },
        "id": "QaA4uz9nvLYz",
        "outputId": "3b7af0f4-a41c-4967-e514-54263e1dbc69"
      },
      "execution_count": null,
      "outputs": [
        {
          "output_type": "stream",
          "name": "stdout",
          "text": [
            "<class 'pandas.core.frame.DataFrame'>\n",
            "RangeIndex: 39609 entries, 0 to 39608\n",
            "Data columns (total 23 columns):\n",
            " #   Column       Non-Null Count  Dtype \n",
            "---  ------       --------------  ----- \n",
            " 0   ID           39609 non-null  object\n",
            " 1   사고일시         39609 non-null  object\n",
            " 2   요일           39609 non-null  object\n",
            " 3   기상상태         39609 non-null  object\n",
            " 4   시군구          39609 non-null  object\n",
            " 5   도로형태         39609 non-null  object\n",
            " 6   노면상태         39609 non-null  object\n",
            " 7   사고유형         39609 non-null  object\n",
            " 8   사고유형 - 세부분류  39609 non-null  object\n",
            " 9   법규위반         39609 non-null  object\n",
            " 10  가해운전자 차종     39609 non-null  object\n",
            " 11  가해운전자 성별     39609 non-null  object\n",
            " 12  가해운전자 연령     39609 non-null  object\n",
            " 13  가해운전자 상해정도   39609 non-null  object\n",
            " 14  피해운전자 차종     39609 non-null  object\n",
            " 15  피해운전자 성별     39609 non-null  object\n",
            " 16  피해운전자 연령     39609 non-null  object\n",
            " 17  피해운전자 상해정도   39609 non-null  object\n",
            " 18  사망자수         39609 non-null  int64 \n",
            " 19  중상자수         39609 non-null  int64 \n",
            " 20  경상자수         39609 non-null  int64 \n",
            " 21  부상자수         39609 non-null  int64 \n",
            " 22  ECLO         39609 non-null  int64 \n",
            "dtypes: int64(5), object(18)\n",
            "memory usage: 7.0+ MB\n",
            "None\n",
            "피해운전자 차종      0\n",
            "피해운전자 성별      0\n",
            "피해운전자 연령      0\n",
            "피해운전자 상해정도    0\n",
            "dtype: int64\n",
            "\n",
            "[EDA용 데이터 확인]\n",
            "            사고일시   요일 기상상태            시군구      도로형태 노면상태     법규위반  사고유형  \\\n",
            "0  2019-01-01 00  화요일   맑음   대구광역시 중구 대신동  단일로 - 기타   건조  안전운전불이행  차대사람   \n",
            "1  2019-01-01 00  화요일   흐림  대구광역시 달서구 감삼동  단일로 - 기타   건조       기타  차대사람   \n",
            "2  2019-01-01 01  화요일   맑음  대구광역시 수성구 두산동  단일로 - 기타   건조  안전운전불이행  차대사람   \n",
            "3  2019-01-01 02  화요일   맑음   대구광역시 북구 복현동  단일로 - 기타   건조  안전운전불이행   차대차   \n",
            "4  2019-01-01 04  화요일   맑음   대구광역시 동구 신암동  단일로 - 기타   건조  안전운전불이행   차대차   \n",
            "\n",
            "  사고유형 - 세부분류 기상상태  ECLO  \n",
            "0  길가장자리구역통행중   맑음     5  \n",
            "1       보도통행중   흐림     3  \n",
            "2       차도통행중   맑음     3  \n",
            "3          추돌   맑음     5  \n",
            "4          추돌   맑음     3  \n"
          ]
        }
      ]
    },
    {
      "cell_type": "markdown",
      "source": [
        "전체 데이터는 총 39,609건으로, 사고일시·기상상태·도로형태·법규위반·사고유형·ECLO 등 핵심 변수 중심으로 구성되어 있다.\n",
        "원본 데이터는 가해·피해 운전자 정보, 지역, 사고 형태 등 다양한 변수를 포함하고 있었으나, 분석 목적이 “사고 피해 정도(ECLO)에 영향을 주는 요인 탐색”에 맞춰져 있기 때문에 사고 상황을 직접적으로 설명할 수 있는 주요 변수만 선별하였다. 이는 불필요한 컬럼을 제거함으로써 모델의 복잡도를 줄이고, 변수 간 다중공선성 문제를 예방하기 위한 조치이다.\n",
        "\n",
        "또한 피해운전자 관련 변수의 결측치는 “없음”으로 통일하여 데이터 일관성을 확보하였다. 결측치를 임의로 제거하지 않고 의미 있는 범주로 대체한 것은, 실제 사고 현장에서 피해자 정보가 누락되는 상황까지 반영하기 위함이다.\n",
        "\n",
        " 결과적으로 데이터는 결측이 존재하지 않으며, 분석용으로 정제된 상태이다. 이러한 전처리 과정은 불필요한 노이즈를 최소화하고, 향후 EDA 및 예측 모델링 단계에서 변수 간 관계를 보다 명확하게 해석할 수 있는 기초를 마련한 것으로 판단된다."
      ],
      "metadata": {
        "id": "EeHtkUtEyslR"
      }
    },
    {
      "cell_type": "markdown",
      "source": [
        "#2. EDA 그래프 (탐색적 데이터 분석)"
      ],
      "metadata": {
        "id": "WVo39yJffGyh"
      }
    },
    {
      "cell_type": "code",
      "source": [
        "#폰트 적용\n",
        "import matplotlib.pyplot as plt\n",
        "import matplotlib.font_manager as fm\n",
        "import seaborn as sns\n",
        "import pandas as pd\n",
        "\n",
        "# 폰트 경로 직접 지정\n",
        "font_path = '/usr/share/fonts/truetype/nanum/NanumGothic.ttf'\n",
        "fm.fontManager.addfont(font_path)\n",
        "plt.rcParams['font.family'] = 'NanumGothic'\n",
        "plt.rcParams['axes.unicode_minus'] = False\n",
        "\n",
        "print(\"현재 설정된 폰트:\", plt.rcParams['font.family'])\n",
        "\n"
      ],
      "metadata": {
        "colab": {
          "base_uri": "https://localhost:8080/"
        },
        "collapsed": true,
        "id": "uGQfYh1qc7LL",
        "outputId": "dd0ff7ee-c4c0-45fb-d7a8-291bd855b72f"
      },
      "execution_count": null,
      "outputs": [
        {
          "output_type": "stream",
          "name": "stdout",
          "text": [
            "현재 설정된 폰트: ['NanumGothic']\n"
          ]
        }
      ]
    },
    {
      "cell_type": "markdown",
      "source": [
        "EDA 단계에서 요일, 도로형태, 기상상태, 지역(군 단위) 등 다양한 관점에서 시각화를 수행하여 사고 발생 패턴을 다각도로 이해하고, 향후 예측 모델 설계 시 핵심 변수로 작용할 수 있는 요인을 식별하기 위한 기초 자료로 활용하였다.\n",
        "\n",
        "특히 요일·도로형태·지역·기상상태와 같은 변수들은 운전자의 행동 특성과 도로 구조적 요인과 밀접하게 연관되어 있어, 단순한 수치적 비교가 아닌 ‘사고의 맥락’을 해석할 수 있도록 시각화한 점이 중요하다 생각했다.\n",
        "\n",
        "결과적으로 본 EDA는 교통사고 피해 예측 모델링에 앞서 변수 간 상관성을 탐색하고, 이후 피처 중요도 분석의 방향성을 제시하는 기초적이면서도 필수적인 단계로서 의미를 가진다.\n",
        "\n",
        "아래의 시각화 결과들은 단순 빈도 분석을 넘어, 외적 환경 요인들이 사고 피해 수준에 유의미한 영향을 미친다는 근거를 시각적으로 제시한다."
      ],
      "metadata": {
        "id": "j7vtkwpU1dMD"
      }
    },
    {
      "cell_type": "code",
      "source": [
        "plt.figure(figsize=(10,6))\n",
        "sns.barplot(data=df_data, x='요일', y='ECLO', estimator='mean', ci=None)\n",
        "plt.title(\"요일별 평균 ECLO\", fontsize=14)\n",
        "plt.xlabel(\"요일\")\n",
        "plt.ylabel(\"평균 ECLO\")\n",
        "plt.show()\n"
      ],
      "metadata": {
        "colab": {
          "base_uri": "https://localhost:8080/",
          "height": 655
        },
        "id": "iAoNR6olvZkY",
        "outputId": "d5c5b057-17c2-47ff-ff0f-fa77b4a4b948"
      },
      "execution_count": null,
      "outputs": [
        {
          "output_type": "stream",
          "name": "stderr",
          "text": [
            "/tmp/ipython-input-797511956.py:2: FutureWarning: \n",
            "\n",
            "The `ci` parameter is deprecated. Use `errorbar=None` for the same effect.\n",
            "\n",
            "  sns.barplot(data=df_data, x='요일', y='ECLO', estimator='mean', ci=None)\n"
          ]
        },
        {
          "output_type": "display_data",
          "data": {
            "text/plain": [
              "<Figure size 1000x600 with 1 Axes>"
            ],
            "image/png": "[encoded data removed]"
          },
          "metadata": {}
        }
      ]
    },
    {
      "cell_type": "markdown",
      "source": [
        "요일별 평균 ECLO 분석 결과, 일요일에 사고 피해 정도가 가장 높게 나타났으며, 토요일과 금요일 순으로 비교적 높은 수치를 보였다. 반면, 화요일부터 목요일까지는 평균 ECLO가 상대적으로 낮은 수준을 유지하였다.\n",
        "\n",
        " 이는 주말로 갈수록 ECLO가 상승하는 경향이 있음을 보여주며, 주중보다 주말에 발생하는 교통사고가 더 심각하거나 인명피해가 큰 사고로 이어질 가능성이 높음을 알 수 있다."
      ],
      "metadata": {
        "id": "Pa9YX7D4zSXP"
      }
    },
    {
      "cell_type": "code",
      "source": [
        "# 도로형태별 ECLO 분포\n",
        "import matplotlib.pyplot as plt\n",
        "import seaborn as sns\n",
        "import matplotlib.font_manager as fm\n",
        "\n",
        "fm.fontManager.addfont('/usr/share/fonts/truetype/nanum/NanumGothic.ttf')\n",
        "plt.rcParams['font.family'] = 'NanumGothic'\n",
        "plt.rcParams['axes.unicode_minus'] = False\n",
        "\n",
        "Q1 = df['ECLO'].quantile(0.25)\n",
        "Q3 = df['ECLO'].quantile(0.75)\n",
        "IQR = Q3 - Q1\n",
        "df_iqr = df[(df['ECLO'] >= Q1 - 1.5*IQR) & (df['ECLO'] <= Q3 + 1.5*IQR)]\n",
        "\n",
        "# 박스플롯 시각화\n",
        "plt.figure(figsize=(14,6))\n",
        "sns.boxplot(data=df_iqr, x='도로형태', y='ECLO', palette='Blues')\n",
        "plt.title(\"도로형태별 ECLO 분포 (IQR 이상치 제거 후)\")\n",
        "plt.xlabel(\"도로형태\")\n",
        "plt.ylabel(\"ECLO\")\n",
        "plt.xticks(rotation=20)\n",
        "plt.tight_layout()\n",
        "plt.show()\n"
      ],
      "metadata": {
        "colab": {
          "base_uri": "https://localhost:8080/",
          "height": 519
        },
        "id": "_sJvgUJ2wHTU",
        "outputId": "a5c5006b-785c-488d-ecb6-3a7f45598446"
      },
      "execution_count": null,
      "outputs": [
        {
          "output_type": "stream",
          "name": "stderr",
          "text": [
            "/tmp/ipython-input-3083915291.py:17: FutureWarning: \n",
            "\n",
            "Passing `palette` without assigning `hue` is deprecated and will be removed in v0.14.0. Assign the `x` variable to `hue` and set `legend=False` for the same effect.\n",
            "\n",
            "  sns.boxplot(data=df_iqr, x='도로형태', y='ECLO', palette='Blues')\n"
          ]
        },
        {
          "output_type": "display_data",
          "data": {
            "text/plain": [
              "<Figure size 1400x600 with 1 Axes>"
            ],
            "image/png": "[encoded data removed]"
          },
          "metadata": {}
        }
      ]
    },
    {
      "cell_type": "markdown",
      "source": [
        "도로형태별 ECLO 분포를 살펴본 결과, 전반적으로 중앙값은 4~5 수준으로 안정적이지만, 일부 도로 유형에서 피해 정도의 변동폭이 크게 나타났다. 특히 ‘단일로-교차로부근’, ‘교차로-기타도로형태’, ‘단일로-기타도로형태’ 구간은 상단 이상치가 많아, 이들 구간에서 상대적으로 심각한 피해 사고가 발생했음을 시사한다.\n",
        "\n",
        "반면, ‘고속도로’, ‘주차장’ 등 제한적 환경의 도로에서는 분포가 좁고 안정적인 형태를 보였다. IQR 기반 이상치 제거 과정을 거쳐 노이즈를 줄였기 때문에, 이번 시각화는 실제 도로 구조별 사고 심각도의 전반적 경향을 보다 명확히 보여준다.\n",
        "\n",
        "이러한 결과는 도로 형태가 사고 피해 정도에 직접적인 영향을 미친다는 점을 강조한다. 교차로·분기점·단일로 부근 등 차량 흐름이 복잡하거나 시야 확보가 어려운 구간에서는 사고가 발생했을 때 ECLO가 높게 나타나는 경향이 있는 것으로 보여진다"
      ],
      "metadata": {
        "id": "W8T-mk3Azq4T"
      }
    },
    {
      "cell_type": "code",
      "source": [
        "# 3️ 기상상태별 사고 건수 --- 의미가 없는것 같음\n",
        "import matplotlib.pyplot as plt\n",
        "import seaborn as sns\n",
        "\n",
        "plt.rc('font', family='NanumGothic')\n",
        "plt.figure(figsize=(14, 10))\n",
        "\n",
        "weather_counts = df['기상상태'].value_counts().reset_index()\n",
        "weather_counts.columns = ['기상상태', 'ECLO']\n",
        "\n",
        "plt.figure(figsize=(10, 6))\n",
        "sns.barplot(data=weather_counts, x='기상상태', y='ECLO', palette='Blues_d')\n",
        "plt.title('기상상태별 ECLO', fontsize=16)\n",
        "plt.xlabel('기상상태')\n",
        "plt.ylabel('사고건수')\n",
        "plt.xticks(rotation=45)\n",
        "plt.tight_layout()\n",
        "plt.show()"
      ],
      "metadata": {
        "colab": {
          "base_uri": "https://localhost:8080/",
          "height": 695
        },
        "id": "hdmZ3SSywRhl",
        "outputId": "ff7c3c66-e836-4f38-a8ac-c7a5e3d529a9"
      },
      "execution_count": null,
      "outputs": [
        {
          "output_type": "stream",
          "name": "stderr",
          "text": [
            "/tmp/ipython-input-4204903843.py:12: FutureWarning: \n",
            "\n",
            "Passing `palette` without assigning `hue` is deprecated and will be removed in v0.14.0. Assign the `x` variable to `hue` and set `legend=False` for the same effect.\n",
            "\n",
            "  sns.barplot(data=weather_counts, x='기상상태', y='ECLO', palette='Blues_d')\n"
          ]
        },
        {
          "output_type": "display_data",
          "data": {
            "text/plain": [
              "<Figure size 1400x1000 with 0 Axes>"
            ]
          },
          "metadata": {}
        },
        {
          "output_type": "display_data",
          "data": {
            "text/plain": [
              "<Figure size 1000x600 with 1 Axes>"
            ],
            "image/png": "[encoded data removed]"
          },
          "metadata": {}
        }
      ]
    },
    {
      "cell_type": "markdown",
      "source": [
        "기상상태별 ECLO 분포를 보면, ‘맑음’ 상태에서 압도적으로 많은 사고가 발생하였으며, 그 수가 다른 모든 날씨 조건을 합친 것보다 월등히 많았다. ‘비’, ‘흐림’ 등 불량 기상 조건에서도 일부 사고가 존재하지만 그 비중은 매우 낮았다.\n",
        "\n",
        "이는 단순히 날씨가 나쁠 때보다, 오히려 평상시 운전자의 경계심이 낮아지는 맑은 날씨에 사고가 더 빈번하게 일어난다는 경향을 보여준다."
      ],
      "metadata": {
        "id": "_IjHulBp0TyZ"
      }
    },
    {
      "cell_type": "code",
      "source": [
        "# 4. 군별 ECLO 평균 그래프\n",
        "# -------------------------------\n",
        "import matplotlib.pyplot as plt\n",
        "import seaborn as sns\n",
        "import matplotlib.font_manager as fm\n",
        "\n",
        "# 폰트 설정\n",
        "fm.fontManager.addfont('/usr/share/fonts/truetype/nanum/NanumGothic.ttf')\n",
        "plt.rcParams['font.family'] = 'NanumGothic'\n",
        "plt.rcParams['axes.unicode_minus'] = False\n",
        "\n",
        "# '시군구' 중에서 '군'이 포함된 행만 필터링\n",
        "gun_df = df_data[df_data['시군구'].str.contains('군', na=False)].copy()\n",
        "\n",
        "# 군 이름만 추출 (예: '경상남도 창녕군' → '창녕군')\n",
        "gun_df['군'] = gun_df['시군구'].apply(lambda x: x.split()[-1] if '군' in x else None)\n",
        "\n",
        "# 군별 평균 ECLO 계산\n",
        "gun_mean = (\n",
        "    gun_df.groupby('군')['ECLO']\n",
        "    .mean()\n",
        "    .sort_values(ascending=False)\n",
        "    .reset_index()\n",
        ")\n",
        "\n",
        "# 그래프 시각화\n",
        "plt.figure(figsize=(12,6))\n",
        "sns.barplot(data=gun_mean, x='군', y='ECLO', palette='viridis')\n",
        "plt.title(\"군 단위 평균 ECLO 비교\", fontsize=14)\n",
        "plt.xlabel(\"군\")\n",
        "plt.ylabel(\"평균 ECLO\")\n",
        "plt.xticks(rotation=45, ha='right')\n",
        "plt.tight_layout()\n",
        "plt.show()\n"
      ],
      "metadata": {
        "colab": {
          "base_uri": "https://localhost:8080/",
          "height": 584
        },
        "id": "xmc85e2t5c5D",
        "outputId": "83249814-95e7-4278-ed7f-09c21de2ea2a"
      },
      "execution_count": null,
      "outputs": [
        {
          "output_type": "stream",
          "name": "stderr",
          "text": [
            "/tmp/ipython-input-3839083876.py:28: FutureWarning: \n",
            "\n",
            "Passing `palette` without assigning `hue` is deprecated and will be removed in v0.14.0. Assign the `x` variable to `hue` and set `legend=False` for the same effect.\n",
            "\n",
            "  sns.barplot(data=gun_mean, x='군', y='ECLO', palette='viridis')\n"
          ]
        },
        {
          "output_type": "display_data",
          "data": {
            "text/plain": [
              "<Figure size 1200x600 with 1 Axes>"
            ],
            "image/png": "[encoded data removed]"
          },
          "metadata": {}
        }
      ]
    },
    {
      "cell_type": "markdown",
      "source": [
        "군 단위 평균 ECLO 분석 결과, 논공읍과 구지면이 가장 높은 값을 기록하였으며, 월촌읍·다사읍·합홍읍 등 외곽 지역으로 갈수록 평균 ECLO가 다소 낮아지는 경향을 보였다.\n",
        "\n",
        "이러한 결과는 지역별 도로 구조와 통행 특성이 사고 심각도에 직접적으로 작용한다는 점을 보여준다."
      ],
      "metadata": {
        "id": "dQ-mN6GI04yu"
      }
    },
    {
      "cell_type": "markdown",
      "source": [
        "#3. 군집화를 통한 파생변수 추가 (KMeans)"
      ],
      "metadata": {
        "id": "hHbeDsZve7bV"
      }
    },
    {
      "cell_type": "code",
      "source": [
        "from sklearn.cluster import KMeans\n",
        "from sklearn.metrics import silhouette_score\n",
        "from sklearn.preprocessing import StandardScaler\n",
        "import matplotlib.pyplot as plt\n",
        "import pandas as pd\n",
        "import numpy as np\n",
        "\n",
        "# -------------------------------\n",
        "# 1. 수치형 및 인코딩 처리\n",
        "# -------------------------------\n",
        "df_cluster = df_data.copy()\n",
        "\n",
        "# 사고일시 → 시(hour) 단위로 변환\n",
        "df_cluster['사고시각'] = pd.to_datetime(df_cluster['사고일시']).dt.hour\n",
        "\n",
        "# 범주형 변수 원-핫 인코딩\n",
        "df_cluster = pd.get_dummies(df_cluster, columns=['요일','기상상태','도로형태','노면상태'], drop_first=True)\n",
        "\n",
        "# 수치형 컬럼 선택 및 스케일링\n",
        "num_cols = df_cluster.select_dtypes(include=[np.number]).columns\n",
        "scaler = StandardScaler()\n",
        "scaled = scaler.fit_transform(df_cluster[num_cols])\n",
        "\n",
        "# -------------------------------\n",
        "# 2. 최적 군집 수 탐색\n",
        "# -------------------------------\n",
        "K_range = range(2, 11)\n",
        "inertias, silhouette_scores = [], []\n",
        "\n",
        "for k in K_range:\n",
        "    kmeans = KMeans(n_clusters=k, n_init=20, max_iter=500, random_state=42)\n",
        "    kmeans.fit(scaled)\n",
        "    inertias.append(kmeans.inertia_)\n",
        "    silhouette_scores.append(silhouette_score(scaled, kmeans.labels_))\n",
        "\n",
        "# Elbow + Silhouette 그래프\n",
        "plt.figure(figsize=(12, 5))\n",
        "plt.subplot(1, 2, 1)\n",
        "plt.plot(K_range, inertias, 'o-', label='Inertia (Elbow)')\n",
        "plt.title('Elbow Method')\n",
        "plt.xlabel('k (군집 수)')\n",
        "plt.ylabel('Inertia')\n",
        "plt.grid(True)\n",
        "\n",
        "plt.subplot(1, 2, 2)\n",
        "plt.plot(K_range, silhouette_scores, 'o-', color='orange', label='Silhouette')\n",
        "plt.title('Silhouette Score')\n",
        "plt.xlabel('k (군집 수)')\n",
        "plt.ylabel('Score')\n",
        "plt.grid(True)\n",
        "\n",
        "plt.tight_layout()\n",
        "plt.show()\n",
        "\n",
        "# -------------------------------\n",
        "# 3. 최적 군집으로 재학습\n",
        "# -------------------------------\n",
        "optimal_k = K_range[np.argmax(silhouette_scores)]\n",
        "print(f\"최적의 군집 수 (k): {optimal_k}\")\n",
        "\n",
        "kmeans = KMeans(n_clusters=optimal_k, n_init=20, max_iter=500, random_state=42)\n",
        "df_cluster['cluster'] = kmeans.fit_predict(scaled)\n",
        "\n",
        "print(\"\\n각 군집별 데이터 수\")\n",
        "print(df_cluster['cluster'].value_counts())\n"
      ],
      "metadata": {
        "colab": {
          "base_uri": "https://localhost:8080/",
          "height": 674
        },
        "id": "nn0Na4pxe6Ui",
        "outputId": "3741e7b5-26ee-43c2-b423-d7d7b3cb413a"
      },
      "execution_count": null,
      "outputs": [
        {
          "output_type": "display_data",
          "data": {
            "text/plain": [
              "<Figure size 1200x500 with 2 Axes>"
            ],
            "image/png": "[encoded data removed]"
          },
          "metadata": {}
        },
        {
          "output_type": "stream",
          "name": "stdout",
          "text": [
            "최적의 군집 수 (k): 3\n",
            "\n",
            "각 군집별 데이터 수\n",
            "cluster\n",
            "1    21835\n",
            "2    13222\n",
            "0     4552\n",
            "Name: count, dtype: int64\n"
          ]
        }
      ]
    },
    {
      "cell_type": "markdown",
      "source": [
        "Elbow Method와 Silhouette Score 분석 결과, 최적의 군집 수는 3개(k=3) 로 도출되었다. 이는 데이터 내 사고 특성이 세 가지 주요 패턴으로 구분될 수 있음을 의미한다. Elbow Method에서 기울기 변화가 완만해지는 지점이 k=3에서 나타났고, Silhouette Score 역시 동일한 구간에서 가장 높은 값을 보이며 군집 간 구분도가 가장 명확했다. 군집별 데이터 수를 보면 1번 군집이 21,835건으로 가장 많고, 0번 군집이 4,552건으로 가장 적어, 일부 특정 패턴이 상대적으로 높은 빈도를 차지함을 확인할 수 있다.\n",
        "\n",
        "이러한 결과는 교통사고의 피해 수준과 사고 유형이 단일 요인에 의존하지 않고, 여러 특성 조합에 따라 유형화될 수 있음을 시사한다.\n",
        "\n",
        " 따라서 군집화 결과를 통해 사고 유형별 특성을 구체적으로 파악하고, 각 군집에 맞는 예방 정책—예를 들어 군집별 도로 개선, 시간대별 단속 강화—등을 도출하는 것이 향후 모델링 및 정책 수립에 있어 중요한 단계라 판단된다."
      ],
      "metadata": {
        "id": "eWiZ8azq28XQ"
      }
    },
    {
      "cell_type": "markdown",
      "source": [
        "# 4. 선형회귀 (Linear Regression)"
      ],
      "metadata": {
        "id": "XK3aUXcPDI-l"
      }
    },
    {
      "cell_type": "code",
      "source": [
        "import pandas as pd\n",
        "import numpy as np\n",
        "from sklearn.preprocessing import PolynomialFeatures, StandardScaler\n",
        "from sklearn.linear_model import LinearRegression\n",
        "\n",
        "# 데이터 준비\n",
        "df_lin = df_cluster.copy()\n",
        "df_lin['ECLO'] = pd.to_numeric(df_lin['ECLO'], errors='coerce')\n",
        "df_lin = df_lin.dropna(subset=['ECLO'])\n",
        "\n",
        "# 문자형 컬럼 제거\n",
        "non_numeric_cols = df_lin.select_dtypes(include=['object']).columns\n",
        "df_lin = df_lin.drop(columns=non_numeric_cols, errors='ignore')\n",
        "\n",
        "# X, y 분리\n",
        "X = df_lin.drop(columns=['ECLO'])\n",
        "y = df_lin['ECLO']\n",
        "\n",
        "# 다항항 생성\n",
        "poly = PolynomialFeatures(degree=2, include_bias=False)\n",
        "X_poly = poly.fit_transform(X)\n",
        "X_poly = StandardScaler().fit_transform(X_poly)\n",
        "\n",
        "# 모델 학습\n",
        "model = LinearRegression()\n",
        "model.fit(X_poly, y)\n",
        "\n",
        "# 성능 확인\n",
        "print(\"=== 선형회귀 (PolynomialFeatures=2) 결과 ===\")\n",
        "print(f\"R² Score: {model.score(X_poly, y):.4f}\")"
      ],
      "metadata": {
        "colab": {
          "base_uri": "https://localhost:8080/"
        },
        "id": "gewzfHrPC7MT",
        "outputId": "e1dd9cfa-f09f-42bd-cf5a-e1c1de536209"
      },
      "execution_count": null,
      "outputs": [
        {
          "output_type": "stream",
          "name": "stdout",
          "text": [
            "=== 선형회귀 (PolynomialFeatures=2) 결과 ===\n",
            "R² Score: 0.5961\n"
          ]
        }
      ]
    },
    {
      "cell_type": "markdown",
      "source": [
        "PolynomialFeatures=2을 적용한 선형회귀 분석 결과, 결정계수(R²)는 0.5961로 나타났다. 이는 모델이 전체 데이터의 약 59.6% 수준의 분산을 설명하고 있음을 의미하며, 비교적 중간 이상의 설명력을 가진 것으로 평가된다. 단순 선형모델에 비해 다항항을 추가함으로써 변수 간의 비선형 관계를 반영할 수 있었고, 교통사고 피해 정도(ECLO)가 단일 요인보다는 여러 변수의 상호작용에 의해 영향을 받는다는 점을 확인할 수 있다.\n",
        "\n",
        "이 결과 외적 요인들이 단순히 독립적으로 작용하기보다, 서로 결합되어 사고 피해 강도를 결정짓는 복합적 구조임을 보여준다. 즉, 특정 도로 형태와 시간대, 기상 조건이 동시에 나타날 때 피해 정도가 증가하는 경향을 모델이 일정 부분 포착한 것으로 해석된다."
      ],
      "metadata": {
        "id": "hJ5puz9d3a6A"
      }
    },
    {
      "cell_type": "markdown",
      "source": [
        "#4. 유의한 피처 탐색 (ANOVA)"
      ],
      "metadata": {
        "id": "105apiiCfaxu"
      }
    },
    {
      "cell_type": "code",
      "source": [
        "!pip install pingouin"
      ],
      "metadata": {
        "colab": {
          "base_uri": "https://localhost:8080/"
        },
        "id": "A9jvnm9ezQZR",
        "outputId": "2c25de8c-1e8f-4122-e52e-05ae80c62a0e"
      },
      "execution_count": null,
      "outputs": [
        {
          "output_type": "stream",
          "name": "stdout",
          "text": [
            "Collecting pingouin\n",
            "  Downloading pingouin-0.5.5-py3-none-any.whl.metadata (19 kB)\n",
            "Requirement already satisfied: matplotlib in /usr/local/lib/python3.12/dist-packages (from pingouin) (3.10.0)\n",
            "Requirement already satisfied: numpy in /usr/local/lib/python3.12/dist-packages (from pingouin) (2.0.2)\n",
            "Requirement already satisfied: pandas>=1.5 in /usr/local/lib/python3.12/dist-packages (from pingouin) (2.2.2)\n",
            "Collecting pandas-flavor (from pingouin)\n",
            "  Downloading pandas_flavor-0.7.0-py3-none-any.whl.metadata (6.7 kB)\n",
            "Requirement already satisfied: scikit-learn>=1.2 in /usr/local/lib/python3.12/dist-packages (from pingouin) (1.6.1)\n",
            "Requirement already satisfied: scipy in /usr/local/lib/python3.12/dist-packages (from pingouin) (1.16.2)\n",
            "Requirement already satisfied: seaborn in /usr/local/lib/python3.12/dist-packages (from pingouin) (0.13.2)\n",
            "Requirement already satisfied: statsmodels in /usr/local/lib/python3.12/dist-packages (from pingouin) (0.14.5)\n",
            "Requirement already satisfied: tabulate in /usr/local/lib/python3.12/dist-packages (from pingouin) (0.9.0)\n",
            "Requirement already satisfied: python-dateutil>=2.8.2 in /usr/local/lib/python3.12/dist-packages (from pandas>=1.5->pingouin) (2.9.0.post0)\n",
            "Requirement already satisfied: pytz>=2020.1 in /usr/local/lib/python3.12/dist-packages (from pandas>=1.5->pingouin) (2025.2)\n",
            "Requirement already satisfied: tzdata>=2022.7 in /usr/local/lib/python3.12/dist-packages (from pandas>=1.5->pingouin) (2025.2)\n",
            "Requirement already satisfied: joblib>=1.2.0 in /usr/local/lib/python3.12/dist-packages (from scikit-learn>=1.2->pingouin) (1.5.2)\n",
            "Requirement already satisfied: threadpoolctl>=3.1.0 in /usr/local/lib/python3.12/dist-packages (from scikit-learn>=1.2->pingouin) (3.6.0)\n",
            "Requirement already satisfied: contourpy>=1.0.1 in /usr/local/lib/python3.12/dist-packages (from matplotlib->pingouin) (1.3.3)\n",
            "Requirement already satisfied: cycler>=0.10 in /usr/local/lib/python3.12/dist-packages (from matplotlib->pingouin) (0.12.1)\n",
            "Requirement already satisfied: fonttools>=4.22.0 in /usr/local/lib/python3.12/dist-packages (from matplotlib->pingouin) (4.60.1)\n",
            "Requirement already satisfied: kiwisolver>=1.3.1 in /usr/local/lib/python3.12/dist-packages (from matplotlib->pingouin) (1.4.9)\n",
            "Requirement already satisfied: packaging>=20.0 in /usr/local/lib/python3.12/dist-packages (from matplotlib->pingouin) (25.0)\n",
            "Requirement already satisfied: pillow>=8 in /usr/local/lib/python3.12/dist-packages (from matplotlib->pingouin) (11.3.0)\n",
            "Requirement already satisfied: pyparsing>=2.3.1 in /usr/local/lib/python3.12/dist-packages (from matplotlib->pingouin) (3.2.5)\n",
            "Requirement already satisfied: xarray in /usr/local/lib/python3.12/dist-packages (from pandas-flavor->pingouin) (2025.10.1)\n",
            "Requirement already satisfied: patsy>=0.5.6 in /usr/local/lib/python3.12/dist-packages (from statsmodels->pingouin) (1.0.2)\n",
            "Requirement already satisfied: six>=1.5 in /usr/local/lib/python3.12/dist-packages (from python-dateutil>=2.8.2->pandas>=1.5->pingouin) (1.17.0)\n",
            "Downloading pingouin-0.5.5-py3-none-any.whl (204 kB)\n",
            "\u001b[2K   \u001b[90m━━━━━━━━━━━━━━━━━━━━━━━━━━━━━━━━━━━━━━━━\u001b[0m \u001b[32m204.4/204.4 kB\u001b[0m \u001b[31m14.3 MB/s\u001b[0m eta \u001b[36m0:00:00\u001b[0m\n",
            "\u001b[?25hDownloading pandas_flavor-0.7.0-py3-none-any.whl (8.4 kB)\n",
            "Installing collected packages: pandas-flavor, pingouin\n",
            "Successfully installed pandas-flavor-0.7.0 pingouin-0.5.5\n"
          ]
        }
      ]
    },
    {
      "cell_type": "code",
      "source": [
        "from scipy.stats import f_oneway\n",
        "import pandas as pd\n",
        "\n",
        "# -----------------------------\n",
        "# 1. 데이터 전처리\n",
        "# -----------------------------\n",
        "df_anova = df_cluster.copy()\n",
        "\n",
        "# ECLO 숫자형 변환 및 결측 제거\n",
        "df_anova['ECLO'] = pd.to_numeric(df_anova['ECLO'], errors='coerce')\n",
        "df_anova = df_anova.dropna(subset=['ECLO'])\n",
        "\n",
        "# 문자형 컬럼 제거\n",
        "non_numeric_cols = df_anova.select_dtypes(include=['object']).columns\n",
        "df_anova = df_anova.drop(columns=non_numeric_cols, errors='ignore')\n",
        "\n",
        "# -----------------------------\n",
        "# 2. ANOVA 검정 수행\n",
        "# -----------------------------\n",
        "anova_results = []\n",
        "\n",
        "for col in df_anova.columns.tolist():\n",
        "    # ECLO는 종속변수이므로 제외\n",
        "    if col == 'ECLO':\n",
        "        continue\n",
        "\n",
        "    series = df_anova[col]\n",
        "\n",
        "    # 숫자형이면서 더미(0/1) 형태인 컬럼만 수행\n",
        "    if pd.api.types.is_numeric_dtype(series) and series.nunique() == 2:\n",
        "        group0 = df_anova.loc[series == 0, 'ECLO']\n",
        "        group1 = df_anova.loc[series == 1, 'ECLO']\n",
        "\n",
        "        # 두 그룹 모두 데이터가 충분히 있을 때만 수행\n",
        "        if len(group0) > 3 and len(group1) > 3:\n",
        "            stat, p = f_oneway(group0, group1)\n",
        "            anova_results.append({\n",
        "                '변수명': col,\n",
        "                'F통계량': stat,\n",
        "                'p값': p\n",
        "            })\n",
        "\n",
        "# -----------------------------\n",
        "# 3. 결과 정리 및 출력\n",
        "# -----------------------------\n",
        "anova_df = pd.DataFrame(anova_results).sort_values('p값', ascending=True)\n",
        "anova_df['유의여부'] = anova_df['p값'].apply(lambda x: '유의함(p<0.05)' if x < 0.05 else '유의하지 않음')\n",
        "\n",
        "print(\"=== ANOVA 유의 변수 상위 15개 ===\")\n",
        "print(anova_df.head(15))\n"
      ],
      "metadata": {
        "colab": {
          "base_uri": "https://localhost:8080/"
        },
        "id": "v-K1W1_EfZZh",
        "outputId": "848989d9-1dc8-45e1-e697-1bbe4318a629"
      },
      "execution_count": null,
      "outputs": [
        {
          "output_type": "stream",
          "name": "stdout",
          "text": [
            "=== ANOVA 유의 변수 상위 15개 ===\n",
            "                    변수명        F통계량            p값         유의여부\n",
            "3                요일_일요일  104.631477  1.578137e-24  유의함(p<0.05)\n",
            "6       도로형태_교차로 - 교차로안  100.870893  1.048123e-23  유의함(p<0.05)\n",
            "8          도로형태_기타 - 기타   88.939111  4.284442e-21  유의함(p<0.05)\n",
            "7   도로형태_교차로 - 교차로횡단보도내   54.355158  1.706012e-13  유의함(p<0.05)\n",
            "4                요일_토요일   24.252971  8.481634e-07  유의함(p<0.05)\n",
            "15       도로형태_주차장 - 주차장   23.586390  1.198843e-06  유의함(p<0.05)\n",
            "13        도로형태_단일로 - 터널   21.372856  3.792783e-06  유의함(p<0.05)\n",
            "11        도로형태_단일로 - 기타   19.722367  8.978915e-06  유의함(p<0.05)\n",
            "0                요일_목요일   18.064050  2.140847e-05  유의함(p<0.05)\n",
            "9      도로형태_단일로 - 고가도로위   10.648379  1.102607e-03  유의함(p<0.05)\n",
            "18           노면상태_젖음/습기   10.566604  1.152452e-03  유의함(p<0.05)\n",
            "5                요일_화요일    6.738629  9.438192e-03  유의함(p<0.05)\n",
            "1                요일_수요일    6.737607  9.443599e-03  유의함(p<0.05)\n",
            "10        도로형태_단일로 - 교량    5.326312  2.101091e-02  유의함(p<0.05)\n",
            "16              노면상태_기타    2.316642  1.280041e-01      유의하지 않음\n"
          ]
        }
      ]
    },
    {
      "cell_type": "markdown",
      "source": [
        "ANOVA 분석 결과, 요일과 도로형태, 노면상태 일부 변수에서 ECLO 평균 차이가 통계적으로 유의하게 나타났다. 특히, ‘요일_일요일’(p<0.001) 과 ‘도로형태_교차로 - 교차로안’, ‘도로형태_기타 - 기타’ 변수의 F통계량이 높게 나타났다. 주말과 교차로 구간이 교통사고 피해 정도에 큰 영향을 미치는 주요 요인임을 확인할 수 있다. 이 외에도 토요일, 터널, 주차장, 젖음/습기 등의 조건에서도 유의한 차이가 나타나, 특정 요일과 도로 구조, 노면 상태가 사고 심각도를 좌우하는 요인으로 작용하고 있음을 보여준다.\n",
        "\n",
        "이러한 결과는 교통사고 피해 정도가 단순히 우연적으로 발생하지 않고, 시간적 요인(요일) 과 공간적 요인(도로형태) 의 상호작용에 의해 구조적으로 영향을 받는다는 점을 시사한다."
      ],
      "metadata": {
        "id": "6ntUSab84K7p"
      }
    },
    {
      "cell_type": "markdown",
      "source": [
        "# 5. 모델 학습 (sklearn - ElasticNet · RandomForest · GradientBoosting)\n",
        "\n",
        "---\n",
        "\n"
      ],
      "metadata": {
        "id": "i03RIN1Ff6LS"
      }
    },
    {
      "cell_type": "code",
      "source": [
        "!pip install XGBoost"
      ],
      "metadata": {
        "colab": {
          "base_uri": "https://localhost:8080/"
        },
        "id": "HpMTiLcbglJI",
        "outputId": "d0df76bf-b494-4fe6-922c-3787fd7f2aba"
      },
      "execution_count": null,
      "outputs": [
        {
          "output_type": "stream",
          "name": "stdout",
          "text": [
            "Requirement already satisfied: XGBoost in /usr/local/lib/python3.12/dist-packages (3.1.0)\n",
            "Requirement already satisfied: numpy in /usr/local/lib/python3.12/dist-packages (from XGBoost) (2.0.2)\n",
            "Requirement already satisfied: nvidia-nccl-cu12 in /usr/local/lib/python3.12/dist-packages (from XGBoost) (2.27.3)\n",
            "Requirement already satisfied: scipy in /usr/local/lib/python3.12/dist-packages (from XGBoost) (1.16.2)\n"
          ]
        }
      ]
    },
    {
      "cell_type": "code",
      "source": [
        "import xgboost\n",
        "print(xgboost.__version__)"
      ],
      "metadata": {
        "colab": {
          "base_uri": "https://localhost:8080/"
        },
        "id": "5LK4AbD6_GaF",
        "outputId": "dc52df3b-ef69-41cc-ca87-f591cb2c0f87"
      },
      "execution_count": null,
      "outputs": [
        {
          "output_type": "stream",
          "name": "stdout",
          "text": [
            "3.1.0\n"
          ]
        }
      ]
    },
    {
      "cell_type": "code",
      "source": [
        "# ===========================================\n",
        "# 5. 모델 학습 (ElasticNet · RandomForest · XGBoost)\n",
        "# ===========================================\n",
        "import pandas as pd\n",
        "import numpy as np\n",
        "from sklearn.model_selection import train_test_split\n",
        "from sklearn.preprocessing import StandardScaler\n",
        "from sklearn.linear_model import ElasticNet\n",
        "from sklearn.ensemble import RandomForestRegressor\n",
        "from xgboost import XGBRegressor\n",
        "from sklearn.metrics import mean_absolute_error, mean_squared_error, r2_score\n",
        "\n",
        "# -------------------------------\n",
        "# 1. 데이터 준비\n",
        "# -------------------------------\n",
        "df_model = df_cluster.copy()\n",
        "\n",
        "df_model['ECLO'] = pd.to_numeric(df_model['ECLO'], errors='coerce')\n",
        "df_model = df_model.dropna(subset=['ECLO'])\n",
        "\n",
        "non_numeric_cols = df_model.select_dtypes(include=['object']).columns\n",
        "df_model = df_model.drop(columns=non_numeric_cols, errors='ignore')\n",
        "\n",
        "X = df_model.drop(columns=['ECLO'])\n",
        "y = df_model['ECLO']\n",
        "\n",
        "X_train, X_test, y_train, y_test = train_test_split(\n",
        "    X, y, test_size=0.2, random_state=42\n",
        ")\n",
        "\n",
        "scaler = StandardScaler()\n",
        "X_train_scaled = scaler.fit_transform(X_train)\n",
        "X_test_scaled = scaler.transform(X_test)\n",
        "\n",
        "# -------------------------------\n",
        "# 2. 모델 정의\n",
        "# -------------------------------\n",
        "models = {\n",
        "    \"ElasticNet\": ElasticNet(alpha=0.1, l1_ratio=0.5, random_state=42),\n",
        "    \"RandomForest\": RandomForestRegressor(\n",
        "        n_estimators=200, max_depth=10, random_state=42\n",
        "    ),\n",
        "    \"XGBoost\": XGBRegressor(\n",
        "        n_estimators=300, learning_rate=0.1, max_depth=6,\n",
        "        subsample=0.8, colsample_bytree=0.8, random_state=42\n",
        "    ),\n",
        "}\n",
        "\n",
        "# -------------------------------\n",
        "# 3. 학습 및 평가\n",
        "# -------------------------------\n",
        "results = []\n",
        "\n",
        "for name, model in models.items():\n",
        "    if name == \"ElasticNet\":\n",
        "        model.fit(X_train_scaled, y_train)\n",
        "        preds = model.predict(X_test_scaled)\n",
        "\n",
        "    elif name == \"XGBoost\":\n",
        "        # 최신 버전이라도 DataFrame 참조 버그 방지용\n",
        "        model.fit(X_train.to_numpy(), y_train.to_numpy())\n",
        "        preds = model.predict(X_test.to_numpy())\n",
        "\n",
        "    else:\n",
        "        model.fit(X_train, y_train)\n",
        "        preds = model.predict(X_test)\n",
        "\n",
        "    mae = mean_absolute_error(y_test, preds)\n",
        "    rmse = np.sqrt(mean_squared_error(y_test, preds))\n",
        "    r2 = r2_score(y_test, preds)\n",
        "\n",
        "    results.append({\n",
        "        \"모델\": name,\n",
        "        \"MAE\": round(mae, 4),\n",
        "        \"RMSE\": round(rmse, 4),\n",
        "        \"R²\": round(r2, 4)\n",
        "    })\n",
        "\n",
        "results_df = pd.DataFrame(results).sort_values(\"R²\", ascending=False)\n",
        "print(\"\\n=== 모델 성능 비교 ===\")\n",
        "print(results_df)\n"
      ],
      "metadata": {
        "colab": {
          "base_uri": "https://localhost:8080/"
        },
        "id": "KiYjz5m2f6s5",
        "outputId": "a511b5e2-5633-438d-8106-24ba97be651d"
      },
      "execution_count": null,
      "outputs": [
        {
          "output_type": "stream",
          "name": "stdout",
          "text": [
            "\n",
            "=== 모델 성능 비교 ===\n",
            "             모델     MAE    RMSE      R²\n",
            "1  RandomForest  1.4891  2.0208  0.5896\n",
            "2       XGBoost  1.4950  2.0474  0.5787\n",
            "0    ElasticNet  1.6938  2.4136  0.4145\n"
          ]
        }
      ]
    },
    {
      "cell_type": "markdown",
      "source": [
        "ElasticNet, RandomForest, XGBoost 세 가지 모델을 비교한 결과, RandomForest가 R²=0.5896으로 가장 높은 설명력을 보였으며, MAE(1.4891)와 RMSE(2.0208) 또한 가장 낮은 수치를 기록했다. 이는 비선형적 변수 간 관계를 효과적으로 학습할 수 있는 트리 기반 모델이 교통사고 피해 예측에 더 적합함을 의미한다. 반면 ElasticNet은 R²=0.4145로 설명력이 낮았는데, 이는 선형 가정에 기반한 모델이 다차원적이고 비선형적인 교통사고 데이터의 특성을 충분히 반영하지 못했기 때문으로 해석된다.\n",
        "\n",
        "이러한 결과는 사고 피해 정도(ECLO)가 단순히 개별 요인에 의해 결정되는 것이 아니라, 도로 형태·요일·기상 상태 등 여러 요인의 상호작용에 따라 복합적으로 형성된다는 점을 뒷받침한다. 따라서 예측 정확도를 높이기 위해서는 비선형성과 변수 간 상호작용을 반영할 수 있는 트리 기반 모델 또는 앙상블 기법의 활용이 필요하다."
      ],
      "metadata": {
        "id": "ioQ2MPB74726"
      }
    },
    {
      "cell_type": "markdown",
      "source": [
        "#6. Stacking (Booster + Meta Model)"
      ],
      "metadata": {
        "id": "f4Hv5V6Wj282"
      }
    },
    {
      "cell_type": "code",
      "source": [
        "!pip install CatBoost"
      ],
      "metadata": {
        "colab": {
          "base_uri": "https://localhost:8080/"
        },
        "id": "WqM79YOk_zlA",
        "outputId": "4eb7f364-c79b-43c0-9aa7-3c14fa23aa95"
      },
      "execution_count": null,
      "outputs": [
        {
          "output_type": "stream",
          "name": "stdout",
          "text": [
            "Collecting CatBoost\n",
            "  Downloading catboost-1.2.8-cp312-cp312-manylinux2014_x86_64.whl.metadata (1.2 kB)\n",
            "Requirement already satisfied: graphviz in /usr/local/lib/python3.12/dist-packages (from CatBoost) (0.21)\n",
            "Requirement already satisfied: matplotlib in /usr/local/lib/python3.12/dist-packages (from CatBoost) (3.10.0)\n",
            "Requirement already satisfied: numpy<3.0,>=1.16.0 in /usr/local/lib/python3.12/dist-packages (from CatBoost) (2.0.2)\n",
            "Requirement already satisfied: pandas>=0.24 in /usr/local/lib/python3.12/dist-packages (from CatBoost) (2.2.2)\n",
            "Requirement already satisfied: scipy in /usr/local/lib/python3.12/dist-packages (from CatBoost) (1.16.2)\n",
            "Requirement already satisfied: plotly in /usr/local/lib/python3.12/dist-packages (from CatBoost) (5.24.1)\n",
            "Requirement already satisfied: six in /usr/local/lib/python3.12/dist-packages (from CatBoost) (1.17.0)\n",
            "Requirement already satisfied: python-dateutil>=2.8.2 in /usr/local/lib/python3.12/dist-packages (from pandas>=0.24->CatBoost) (2.9.0.post0)\n",
            "Requirement already satisfied: pytz>=2020.1 in /usr/local/lib/python3.12/dist-packages (from pandas>=0.24->CatBoost) (2025.2)\n",
            "Requirement already satisfied: tzdata>=2022.7 in /usr/local/lib/python3.12/dist-packages (from pandas>=0.24->CatBoost) (2025.2)\n",
            "Requirement already satisfied: contourpy>=1.0.1 in /usr/local/lib/python3.12/dist-packages (from matplotlib->CatBoost) (1.3.3)\n",
            "Requirement already satisfied: cycler>=0.10 in /usr/local/lib/python3.12/dist-packages (from matplotlib->CatBoost) (0.12.1)\n",
            "Requirement already satisfied: fonttools>=4.22.0 in /usr/local/lib/python3.12/dist-packages (from matplotlib->CatBoost) (4.60.1)\n",
            "Requirement already satisfied: kiwisolver>=1.3.1 in /usr/local/lib/python3.12/dist-packages (from matplotlib->CatBoost) (1.4.9)\n",
            "Requirement already satisfied: packaging>=20.0 in /usr/local/lib/python3.12/dist-packages (from matplotlib->CatBoost) (25.0)\n",
            "Requirement already satisfied: pillow>=8 in /usr/local/lib/python3.12/dist-packages (from matplotlib->CatBoost) (11.3.0)\n",
            "Requirement already satisfied: pyparsing>=2.3.1 in /usr/local/lib/python3.12/dist-packages (from matplotlib->CatBoost) (3.2.5)\n",
            "Requirement already satisfied: tenacity>=6.2.0 in /usr/local/lib/python3.12/dist-packages (from plotly->CatBoost) (8.5.0)\n",
            "Downloading catboost-1.2.8-cp312-cp312-manylinux2014_x86_64.whl (99.2 MB)\n",
            "\u001b[2K   \u001b[90m━━━━━━━━━━━━━━━━━━━━━━━━━━━━━━━━━━━━━━━━\u001b[0m \u001b[32m99.2/99.2 MB\u001b[0m \u001b[31m6.3 MB/s\u001b[0m eta \u001b[36m0:00:00\u001b[0m\n",
            "\u001b[?25hInstalling collected packages: CatBoost\n",
            "Successfully installed CatBoost-1.2.8\n"
          ]
        }
      ]
    },
    {
      "cell_type": "code",
      "source": [
        "# ===========================================\n",
        "# 6. 스태킹 회귀모델 (CatBoost 메타모델)\n",
        "# ===========================================\n",
        "from sklearn.ensemble import StackingRegressor\n",
        "from catboost import CatBoostRegressor\n",
        "from sklearn.metrics import mean_absolute_error, mean_squared_error, r2_score\n",
        "import numpy as np\n",
        "import pandas as pd\n",
        "\n",
        "# -------------------------------\n",
        "# 1. 베이스 모델 구성\n",
        "# -------------------------------\n",
        "base_estimators = [\n",
        "    ('elasticnet', ElasticNet(alpha=0.1, l1_ratio=0.5, random_state=42)),\n",
        "    ('rf', RandomForestRegressor(n_estimators=200, max_depth=10, random_state=42)),\n",
        "    ('xgb', XGBRegressor(\n",
        "        n_estimators=300, learning_rate=0.1, max_depth=6,\n",
        "        subsample=0.8, colsample_bytree=0.8, random_state=42\n",
        "    ))\n",
        "]\n",
        "\n",
        "# -------------------------------\n",
        "# 2. 메타모델 (CatBoost)\n",
        "# -------------------------------\n",
        "meta_model = CatBoostRegressor(\n",
        "    iterations=500,\n",
        "    learning_rate=0.05,\n",
        "    depth=6,\n",
        "    loss_function='RMSE',\n",
        "    verbose=False,\n",
        "    random_state=42\n",
        ")\n",
        "\n",
        "# -------------------------------\n",
        "# 3. 스태킹 모델 구성\n",
        "# -------------------------------\n",
        "stack_model = StackingRegressor(\n",
        "    estimators=base_estimators,\n",
        "    final_estimator=meta_model,\n",
        "    passthrough=True,  # 원본 특성 + base 모델 예측값 함께 사용\n",
        "    n_jobs=-1\n",
        ")\n",
        "\n",
        "# -------------------------------\n",
        "# 4. 학습\n",
        "# -------------------------------\n",
        "# ElasticNet용 스케일링 데이터 사용 시도 → 모든 모델에 통일\n",
        "stack_model.fit(X_train_scaled, y_train)\n",
        "stack_preds = stack_model.predict(X_test_scaled)\n",
        "\n",
        "# -------------------------------\n",
        "# 5. 성능 평가\n",
        "# -------------------------------\n",
        "mae = mean_absolute_error(y_test, stack_preds)\n",
        "rmse = np.sqrt(mean_squared_error(y_test, stack_preds))\n",
        "r2 = r2_score(y_test, stack_preds)\n",
        "\n",
        "print(\"\\n=== [CatBoost 기반 Stacking 결과] ===\")\n",
        "print(f\"MAE : {mae:.4f}\")\n",
        "print(f\"RMSE: {rmse:.4f}\")\n",
        "print(f\"R²  : {r2:.4f}\")"
      ],
      "metadata": {
        "colab": {
          "base_uri": "https://localhost:8080/"
        },
        "id": "WTADJNRZj3UV",
        "outputId": "2787d406-0a3a-4937-fe0d-ebc7f4bf1e25"
      },
      "execution_count": null,
      "outputs": [
        {
          "output_type": "stream",
          "name": "stdout",
          "text": [
            "\n",
            "=== [CatBoost 기반 Stacking 결과] ===\n",
            "MAE : 1.4796\n",
            "RMSE: 2.0118\n",
            "R²  : 0.5932\n"
          ]
        }
      ]
    },
    {
      "cell_type": "markdown",
      "source": [
        "CatBoost를 메타모델로 활용한 스태킹 회귀모델의 성능은 R² = 0.5932, MAE = 1.4796, RMSE = 2.0118로 나타났다. 이는 개별 모델 중 가장 성능이 우수했던 RandomForest(R²=0.5896)보다 소폭 향상된 결과로, 서로 다른 알고리즘의 예측값을 결합함으로써 일반화 성능이 개선되었음을 보여준다. 특히 MAE와 RMSE가 모두 낮아진 점은, 모델이 극단적인 오차에 덜 민감해졌고, 전반적으로 안정적인 예측을 수행하고 있음을 의미한다."
      ],
      "metadata": {
        "id": "KcCDqqdE5lC8"
      }
    },
    {
      "cell_type": "markdown",
      "source": [
        "#7. Feature Importance"
      ],
      "metadata": {
        "id": "B4oAgRFJkazk"
      }
    },
    {
      "cell_type": "code",
      "source": [
        "# ===========================================\n",
        "# 7. Feature Importance (Permutation Importance)\n",
        "# ===========================================\n",
        "import numpy as np\n",
        "import pandas as pd\n",
        "import matplotlib.pyplot as plt\n",
        "import seaborn as sns\n",
        "from sklearn.inspection import permutation_importance\n",
        "\n",
        "# -------------------------------\n",
        "# 1. Permutation Importance 계산\n",
        "# -------------------------------\n",
        "# 스태킹 모델이 학습되어 있어야 함 (stack_model)\n",
        "result = permutation_importance(\n",
        "    stack_model,\n",
        "    X_test_scaled,\n",
        "    y_test,\n",
        "    n_repeats=10,\n",
        "    random_state=42,\n",
        "    n_jobs=-1\n",
        ")\n",
        "\n",
        "# -------------------------------\n",
        "# 2. 결과 DataFrame 정리\n",
        "# -------------------------------\n",
        "importance_df = pd.DataFrame({\n",
        "    \"Feature\": X.columns,\n",
        "    \"Importance\": result.importances_mean,\n",
        "    \"Std\": result.importances_std\n",
        "}).sort_values(\"Importance\", ascending=False)\n",
        "\n",
        "# -------------------------------\n",
        "# 3. 상위 15개 변수 시각화\n",
        "# -------------------------------\n",
        "plt.figure(figsize=(10, 6))\n",
        "sns.barplot(\n",
        "    data=importance_df.head(15),\n",
        "    x=\"Importance\",\n",
        "    y=\"Feature\",\n",
        "    palette=\"Blues_d\"\n",
        ")\n",
        "plt.title(\"CatBoost Stacking 모델 - Feature Importance 상위 15개\", fontsize=14)\n",
        "plt.xlabel(\"Importance (Mean Decrease in Score)\")\n",
        "plt.ylabel(\"Feature\")\n",
        "plt.tight_layout()\n",
        "plt.show()\n",
        "\n",
        "# -------------------------------\n",
        "# 4. 전체 중요도 표 확인\n",
        "# -------------------------------\n",
        "print(\"\\n=== Feature Importance (상위 20개) ===\")\n",
        "print(importance_df.head(20))\n"
      ],
      "metadata": {
        "colab": {
          "base_uri": "https://localhost:8080/",
          "height": 1000
        },
        "id": "mDQwDBrJj6gw",
        "outputId": "c85aaf05-812e-4194-83a6-06e7d2c88f8a"
      },
      "execution_count": null,
      "outputs": [
        {
          "output_type": "stream",
          "name": "stderr",
          "text": [
            "/tmp/ipython-input-2343152676.py:36: FutureWarning: \n",
            "\n",
            "Passing `palette` without assigning `hue` is deprecated and will be removed in v0.14.0. Assign the `y` variable to `hue` and set `legend=False` for the same effect.\n",
            "\n",
            "  sns.barplot(\n"
          ]
        },
        {
          "output_type": "display_data",
          "data": {
            "text/plain": [
              "<Figure size 1000x600 with 1 Axes>"
            ],
            "image/png": "[encoded data removed]"
          },
          "metadata": {}
        },
        {
          "output_type": "stream",
          "name": "stdout",
          "text": [
            "\n",
            "=== Feature Importance (상위 20개) ===\n",
            "                 Feature  Importance       Std\n",
            "32               cluster    1.196912  0.008094\n",
            "0                   사고시각    0.040707  0.003470\n",
            "30            노면상태_젖음/습기    0.006622  0.002139\n",
            "22         도로형태_단일로 - 기타    0.002367  0.001215\n",
            "2                 요일_수요일    0.002194  0.001230\n",
            "17       도로형태_교차로 - 교차로안    0.002095  0.001334\n",
            "4                 요일_일요일    0.001895  0.001553\n",
            "19          도로형태_기타 - 기타    0.001458  0.001305\n",
            "6                 요일_화요일    0.001207  0.001554\n",
            "23  도로형태_단일로 - 지하차도(도로)내    0.000918  0.001791\n",
            "1                 요일_목요일    0.000609  0.000505\n",
            "3                 요일_월요일    0.000521  0.001401\n",
            "8                기상상태_맑음    0.000447  0.000315\n",
            "18   도로형태_교차로 - 교차로횡단보도내    0.000439  0.000580\n",
            "26        도로형태_주차장 - 주차장    0.000190  0.000070\n",
            "11               기상상태_흐림    0.000187  0.000585\n",
            "20      도로형태_단일로 - 고가도로위    0.000186  0.000122\n",
            "24         도로형태_단일로 - 터널    0.000069  0.000060\n",
            "28            노면상태_서리/결빙    0.000049  0.000078\n",
            "15               기상상태_안개    0.000040  0.000062\n"
          ]
        }
      ]
    },
    {
      "cell_type": "markdown",
      "source": [
        "CatBoost 기반 스태킹 모델의 변수 중요도 분석 결과, cluster 변수가 압도적으로 높은 중요도를 보였으며, 그 뒤를 사고시각, 노면상태_젖음/습기, 도로형태_단일로-기타, 요일_수요일 등이 따랐다. 특히 cluster는 개별 변수보다 훨씬 높은 기여도를 기록했는데, 이는 앞선 군집화 과정에서 도출된 사고 패턴이 피해 정도 예측에 강력한 설명력을 지닌다는 것을 의미한다.\n",
        "\n",
        "즉, 군집화로 파생된 사고 유형(예: 도심 교차로 사고, 외곽 야간 사고 등)이 단일 요인보다 ECLO를 더 효과적으로 구분한다는 점을 확인할 수 있다.\n",
        "\n",
        "이 결과는 모델이 사고의 시공간적 맥락을 반영한 변수가 피해 예측의 핵심 요인으로 작용함을 보여준다. 시간대(사고시각)와 도로·노면 조건이 함께 높은 중요도를 나타낸 점은, 운전 환경과 사고 발생 시점의 결합이 피해 강도를 결정짓는 주요 요인으로 사료된다."
      ],
      "metadata": {
        "id": "Ra4s0uXr6SFX"
      }
    }
  ]
}